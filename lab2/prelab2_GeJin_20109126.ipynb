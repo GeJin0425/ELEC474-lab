{
 "cells": [
  {
   "cell_type": "code",
   "execution_count": 1,
   "id": "e07abd09-515d-4f0e-8c51-d095c70b3bb2",
   "metadata": {},
   "outputs": [],
   "source": [
    "import cv2\n",
    "import numpy as np\n",
    "import sklearn as sk\n",
    "from matplotlib import pyplot as plt\n",
    "image = cv2.imread(\"mai.png\")\n"
   ]
  },
  {
   "cell_type": "markdown",
   "id": "7b3f778c-bc67-4686-8694-aaabfc5e4bc8",
   "metadata": {},
   "source": [
    "Functions for calculating difference, Callback,threshold value and grow"
   ]
  },
  {
   "cell_type": "code",
   "execution_count": 2,
   "id": "f53ad1f4-0a18-4bfa-852d-83630680ca8c",
   "metadata": {},
   "outputs": [],
   "source": [
    "def Diff(x,y):\n",
    "    if(x<y):\n",
    "        return y-x\n",
    "    else:\n",
    "        return x-y\n",
    "\n",
    "def BarCallback(*arg):\n",
    "    threshold = cv2.getTrackbarPos(\"Intensity\", \"trackbarimage\")\n",
    "    \n",
    "def valid_check(seed, point, threshold):\n",
    "    point = image[point[0]][point[1]]\n",
    "    return((Diff(seed[0], point[0]) <= threshold) and (Diff(seed[1], point[1]) <= threshold) and (Diff(seed[2], point[2]) <= threshold))\n",
    "\n",
    "def grow(seed, temp, threshold,check):\n",
    "    if(valid_check(seed, temp, threshold) and not (check[temp[0]][temp[1]] == 1)):\n",
    "        stack.append(temp)                 \n",
    "        check[temp[0]][temp[1]] = 1  \n",
    "        \n"
   ]
  },
  {
   "cell_type": "markdown",
   "id": "06c9ca43-4fdd-4c70-887e-856ffb199021",
   "metadata": {},
   "source": [
    "4 Connectivity Region Method,Seeds from objects of interest "
   ]
  },
  {
   "cell_type": "code",
   "execution_count": 3,
   "id": "7a88e7a4-8e46-47ad-b6ea-5cde6aed016f",
   "metadata": {},
   "outputs": [],
   "source": [
    "def floodfill(event, x, y, flags, p):\n",
    "    if event == cv2.EVENT_LBUTTONUP:\n",
    "        print(\"run\")\n",
    "        check = np.zeros([image.shape[0], image.shape[1]])\n",
    "        threshold = cv2.getTrackbarPos(\"Intensity\", \"trackbarimage\")\n",
    "        seed = [y,x]\n",
    "        check[y,x] = 1\n",
    "        seed = np.copy(image[y][x])\n",
    "        stack.append([y,x])\n",
    "        check_pixel = 0\n",
    "    threshold = cv2.getTrackbarPos(\"Intensity\", \"trackbarimage\") \n",
    "    pixel_number = 0\n",
    "    while(len(stack) != 0):\n",
    "        point = stack.pop()                                   \n",
    "        if(valid_check(seed, point, threshold)):\n",
    "            image[point[0],point[1]] = [255,0,0]\n",
    "            pixel_number += 1\n",
    "            # 4 Connectivity method \n",
    "            up_pixel = [point[0],min(point[1] + 1, image_size[1] -1)]  \n",
    "            right_pixel = [min(point[0] + 1, image_size[0] -1),point[1]]  \n",
    "            left_pixel = [max(point[0] - 1, 0),point[1]]             \n",
    "            down_pixel = [point[0],max(point[1] - 1, 0)]             \n",
    "            #grow function\n",
    "            grow(seed,up_pixel,threshold,check)\n",
    "            grow(seed,right_pixel,threshold,check)\n",
    "            grow(seed,left_pixel,threshold,check)\n",
    "            grow(seed,down_pixel,threshold,check)"
   ]
  },
  {
   "cell_type": "markdown",
   "id": "db1eac9e-688e-4d69-835a-a2157a3c75b4",
   "metadata": {},
   "source": [
    "Main Function(Press ESC to quit)"
   ]
  },
  {
   "cell_type": "code",
   "execution_count": 4,
   "id": "f2a854aa-6334-493a-b8d0-05d56ea730b0",
   "metadata": {},
   "outputs": [
    {
     "name": "stdout",
     "output_type": "stream",
     "text": [
      "run\n"
     ]
    }
   ],
   "source": [
    "#main function\n",
    "stack = []\n",
    "threshold = 0\n",
    "image_size = [image.shape[0], image.shape[1]]\n",
    "cv2.namedWindow('trackbarimage', cv2.WINDOW_AUTOSIZE)\n",
    "cv2.createTrackbar(\"Intensity\", 'trackbarimage', 1, 255, BarCallback)\n",
    "while True:\n",
    "    cv2.imshow('trackbarimage',image)\n",
    "    cv2.setMouseCallback(\"trackbarimage\", floodfill, [stack,image])\n",
    "    a = cv2.waitKey(1)\n",
    "    #esc to exit\n",
    "    if a == 27: \n",
    "        break\n",
    "cv2.destroyAllWindows()"
   ]
  },
  {
   "cell_type": "code",
   "execution_count": null,
   "id": "b7d59137-664c-4ee1-829d-c2f58d78322e",
   "metadata": {},
   "outputs": [],
   "source": []
  }
 ],
 "metadata": {
  "kernelspec": {
   "display_name": "Python [conda env:conda-tf] *",
   "language": "python",
   "name": "conda-env-conda-tf-py"
  },
  "language_info": {
   "codemirror_mode": {
    "name": "ipython",
    "version": 3
   },
   "file_extension": ".py",
   "mimetype": "text/x-python",
   "name": "python",
   "nbconvert_exporter": "python",
   "pygments_lexer": "ipython3",
   "version": "3.6.13"
  }
 },
 "nbformat": 4,
 "nbformat_minor": 5
}
