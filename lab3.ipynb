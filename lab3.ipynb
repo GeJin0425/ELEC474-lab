{
 "cells": [
  {
   "cell_type": "code",
   "execution_count": 1,
   "id": "23ad65f7-e4bb-4e38-8f33-023bac8768c8",
   "metadata": {},
   "outputs": [],
   "source": [
    "import os\n",
    "os.environ[\"CUDA_VISIBLE_DEVICES\"] = \"0\"\n",
    "import cupy as cp\n",
    "import cv2\n",
    "from matplotlib import pyplot as plt \n",
    "import numpy as np\n",
    "import sklearn\n",
    "import math\n",
    "import random\n",
    "circle = cv2.imread('circle.jpg')\n",
    "row = circle.shape[0]\n",
    "column = circle.shape[1]\n",
    "point = []\n",
    "inlier = -1\n",
    "Grange = [1,10000]\n",
    "pBarLength = 70"
   ]
  },
  {
   "cell_type": "code",
   "execution_count": 2,
   "id": "dd76038f-9576-4dba-bed2-bf4e900726bb",
   "metadata": {},
   "outputs": [
    {
     "data": {
      "image/png": "[encoded data removed]",
      "text/plain": [
       "<Figure size 432x288 with 1 Axes>"
      ]
     },
     "metadata": {
      "needs_background": "light"
     },
     "output_type": "display_data"
    }
   ],
   "source": [
    "circle = cv2.Canny(circle,50,100)\n",
    "plt.imshow(circle,cmap = 'gray')\n",
    "point = []\n",
    "for i in range(row):\n",
    "    for j in range(column):\n",
    "        if circle[i,j] == 255:\n",
    "            point.append([i,j])"
   ]
  },
  {
   "cell_type": "code",
   "execution_count": 3,
   "id": "a9750fc5-9c7f-4b79-9942-2f637a83de5d",
   "metadata": {},
   "outputs": [],
   "source": [
    "def ThreePoint(img):\n",
    "    x1 = 0\n",
    "    x2 = 0\n",
    "    val = random.sample(point,3)\n",
    "    y1 = 0\n",
    "    y2 = 0\n",
    "    while abs(x1 == 0) or abs(x2 == 0) or abs(y1 == 0) or abs(y2 == 0)  :\n",
    "        val = random.sample(point,3)\n",
    "        x1 = (val[0][0] - val[1][0]) \n",
    "        y1 = (val[0][1] - val[1][1]) \n",
    "        x2 = (val[1][0] - val[2][0]) \n",
    "        y2 = (val[1][1] - val[2][1])\n",
    "            \n",
    "    return val\n",
    "\n",
    "def Bisector(val):\n",
    "    x1 = (val[0][0] - val[1][0]) \n",
    "    y1 = (val[0][1] - val[1][1]) \n",
    "    x2 = (val[1][0] - val[2][0]) \n",
    "    y2 = (val[1][1] - val[2][1])\n",
    "    midx1 = ((val[0][0]) + (val[1][0]))/ 2 \n",
    "    midy1 = ((val[0][1]) + (val[1][1]))/ 2\n",
    "    midx2 = ((val[1][0]) + (val[2][0]))/ 2\n",
    "    midy2 = ((val[1][1]) + (val[2][1]))/ 2\n",
    "    midp1 = [midx1, midy1]\n",
    "    midp2 = [midx2, midy2]\n",
    "    slope1 = y1/x1\n",
    "    slope1 = -(1/slope1)\n",
    "    slope2 = y2/x2\n",
    "    slope2 = -(1/slope2)\n",
    "    b1 = (midp1[1] - slope1 * midp1[0])\n",
    "    b2 = (midp2[1] - slope2 * midp2[0])\n",
    "    a = cp.array([[slope1,-1], [slope2, -1]])\n",
    "    b = cp.array([-b1,-b2])\n",
    "    x = cp.linalg.solve(a, b)\n",
    "    return x\n",
    "\n",
    "\n",
    "def Radius(center):\n",
    "    val = random.sample(point,1)\n",
    "    return math.sqrt(math.pow((val[0][0]-center[0]),2)+math.pow((val[0][1]-center[1]),2))"
   ]
  },
  {
   "cell_type": "code",
   "execution_count": 4,
   "id": "a54411c7-b4da-46c5-9cbb-d3702bb500c2",
   "metadata": {},
   "outputs": [
    {
     "name": "stdout",
     "output_type": "stream",
     "text": [
      "(511, 383)\n",
      "363\n"
     ]
    },
    {
     "data": {
      "text/plain": [
       "<matplotlib.image.AxesImage at 0x206547e0898>"
      ]
     },
     "execution_count": 4,
     "metadata": {},
     "output_type": "execute_result"
    },
    {
     "data": {
      "image/png": "[encoded data removed]",
      "text/plain": [
       "<Figure size 432x288 with 1 Axes>"
      ]
     },
     "metadata": {
      "needs_background": "light"
     },
     "output_type": "display_data"
    }
   ],
   "source": [
    "for z in range(0,1):\n",
    "    center = ThreePoint(circle)\n",
    "    center = Bisector(center)\n",
    "    r = int(Radius(center))\n",
    "    center = (int(center[1]),int(center[0]))\n",
    "    print(center)\n",
    "    print(r)\n",
    "image1 = cv2.circle(circle, (center), r, (255,0,0), 5)\n",
    "plt.imshow(image1,cmap = 'gray')"
   ]
  },
  {
   "cell_type": "code",
   "execution_count": 5,
   "id": "553f7af7-8a55-40ae-a0ef-639097383de6",
   "metadata": {},
   "outputs": [],
   "source": [
    "RANpoint = []\n",
    "for i in range(row):\n",
    "    for j in range(column):\n",
    "            RANpoint.append([i,j])\n",
    "            \n",
    "            \n",
    "def ThreeRandomPoint(RANpoint):\n",
    "    val = random.sample(RANpoint,3)\n",
    "    x1 = 0\n",
    "    y1 = 0\n",
    "    x2 = 0\n",
    "    y2 = 0\n",
    "    while abs(x1 <= 1) or abs(x2 <= 1) or abs(y1 <= 1) or abs(y2 <= 1) or abs((x1-x2) <=50) or abs((y1-y2)<=50) :\n",
    "        val = random.sample(RANpoint,3)\n",
    "        x1 = (val[0][0] - val[1][0]) \n",
    "        y1 = (val[0][1] - val[1][1]) \n",
    "        x2 = (val[1][0] - val[2][0]) \n",
    "        y2 = (val[1][1] - val[2][1])\n",
    "        #s1 = y1/x1\n",
    "        #slope1 = -(1/s1)\n",
    "        #s2 = y2/x2\n",
    "        #slope2 = -(1/s2)\n",
    "    return val \n",
    "\n",
    "def RANlist(circle1):\n",
    "    whitep = []\n",
    "    for i in range(row):\n",
    "        for j in range(column):\n",
    "            if circle1[i,j] == 255:\n",
    "                whitep.append([i,j])\n",
    "    #plt.imshow(circle1,cmap = 'gray')\n",
    "    return whitep\n",
    "   \n",
    "def Inliercal(whitep):\n",
    "    inlier = 0\n",
    "    inlier = len([x for x in whitep if x in point])\n",
    "    return inlier\n"
   ]
  },
  {
   "cell_type": "code",
   "execution_count": 6,
   "id": "f20516bb-0fd6-4f20-9fe6-d37fd87b6702",
   "metadata": {},
   "outputs": [
    {
     "name": "stdout",
     "output_type": "stream",
     "text": [
      "█░░░░░░░░░░░░░░░░░░░░░░░░░░░░░░░░░░░░░░░░░░░░░░░░░░░░░░░░░░░░░░░░░░░░░░0% For iteration =1 1 132\n",
      "█░░░░░░░░░░░░░░░░░░░░░░░░░░░░░░░░░░░░░░░░░░░░░░░░░░░░░░░░░░░░░░░░░░░░░░0% For iteration =30 30 153\n",
      "█░░░░░░░░░░░░░░░░░░░░░░░░░░░░░░░░░░░░░░░░░░░░░░░░░░░░░░░░░░░░░░░░░░░░░░0% For iteration =45 45 155\n",
      "█░░░░░░░░░░░░░░░░░░░░░░░░░░░░░░░░░░░░░░░░░░░░░░░░░░░░░░░░░░░░░░░░░░░░░░1% For iteration =51 51 238\n",
      "█░░░░░░░░░░░░░░░░░░░░░░░░░░░░░░░░░░░░░░░░░░░░░░░░░░░░░░░░░░░░░░░░░░░░░░1% For iteration =65 65 323\n",
      "█░░░░░░░░░░░░░░░░░░░░░░░░░░░░░░░░░░░░░░░░░░░░░░░░░░░░░░░░░░░░░░░░░░░░░1% For iteration =75 75 389\n",
      "█░░░░░░░░░░░░░░░░░░░░░░░░░░░░░░░░░░░░░░░░░░░░░░░░░░░░░░░░░░░░░░░░░░░░░2% For iteration =168 168 475\n",
      "███░░░░░░░░░░░░░░░░░░░░░░░░░░░░░░░░░░░░░░░░░░░░░░░░░░░░░░░░░░░░░░░░░░░5% For iteration =485 485 595\n",
      "█████░░░░░░░░░░░░░░░░░░░░░░░░░░░░░░░░░░░░░░░░░░░░░░░░░░░░░░░░░░░░░░░░░7% For iteration =713 713 675\n",
      "████████████░░░░░░░░░░░░░░░░░░░░░░░░░░░░░░░░░░░░░░░░░░░░░░░░░░░░░░░░░░17% For iteration =1728 1728 1500\n",
      "██████████████████████████░░░░░░░░░░░░░░░░░░░░░░░░░░░░░░░░░░░░░░░░░░░░38% For iteration =3753 "
     ]
    },
    {
     "ename": "KeyboardInterrupt",
     "evalue": "",
     "output_type": "error",
     "traceback": [
      "\u001b[1;31m---------------------------------------------------------------------------\u001b[0m",
      "\u001b[1;31mKeyboardInterrupt\u001b[0m                         Traceback (most recent call last)",
      "\u001b[1;32m<ipython-input-6-4917cd1932e9>\u001b[0m in \u001b[0;36m<module>\u001b[1;34m\u001b[0m\n\u001b[0;32m      8\u001b[0m     \u001b[0mcenter\u001b[0m \u001b[1;33m=\u001b[0m \u001b[1;33m(\u001b[0m\u001b[0mint\u001b[0m\u001b[1;33m(\u001b[0m\u001b[0mcenter\u001b[0m\u001b[1;33m[\u001b[0m\u001b[1;36m1\u001b[0m\u001b[1;33m]\u001b[0m\u001b[1;33m)\u001b[0m\u001b[1;33m,\u001b[0m\u001b[0mint\u001b[0m\u001b[1;33m(\u001b[0m\u001b[0mcenter\u001b[0m\u001b[1;33m[\u001b[0m\u001b[1;36m0\u001b[0m\u001b[1;33m]\u001b[0m\u001b[1;33m)\u001b[0m\u001b[1;33m)\u001b[0m\u001b[1;33m\u001b[0m\u001b[1;33m\u001b[0m\u001b[0m\n\u001b[0;32m      9\u001b[0m     \u001b[0mcircle1\u001b[0m \u001b[1;33m=\u001b[0m \u001b[0mcv2\u001b[0m\u001b[1;33m.\u001b[0m\u001b[0mcircle\u001b[0m\u001b[1;33m(\u001b[0m\u001b[0mimgini\u001b[0m\u001b[1;33m,\u001b[0m \u001b[1;33m(\u001b[0m\u001b[0mcenter\u001b[0m\u001b[1;33m)\u001b[0m\u001b[1;33m,\u001b[0m \u001b[0mr\u001b[0m\u001b[1;33m,\u001b[0m \u001b[1;33m(\u001b[0m\u001b[1;36m255\u001b[0m\u001b[1;33m,\u001b[0m\u001b[1;36m0\u001b[0m\u001b[1;33m,\u001b[0m\u001b[1;36m0\u001b[0m\u001b[1;33m)\u001b[0m\u001b[1;33m,\u001b[0m \u001b[1;36m5\u001b[0m\u001b[1;33m)\u001b[0m\u001b[1;33m\u001b[0m\u001b[1;33m\u001b[0m\u001b[0m\n\u001b[1;32m---> 10\u001b[1;33m     \u001b[0mwhitep\u001b[0m \u001b[1;33m=\u001b[0m \u001b[0mRANlist\u001b[0m\u001b[1;33m(\u001b[0m\u001b[0mcircle1\u001b[0m\u001b[1;33m)\u001b[0m\u001b[1;33m\u001b[0m\u001b[1;33m\u001b[0m\u001b[0m\n\u001b[0m\u001b[0;32m     11\u001b[0m     \u001b[0mk\u001b[0m \u001b[1;33m=\u001b[0m \u001b[0mInliercal\u001b[0m\u001b[1;33m(\u001b[0m\u001b[0mwhitep\u001b[0m\u001b[1;33m)\u001b[0m\u001b[1;33m\u001b[0m\u001b[1;33m\u001b[0m\u001b[0m\n\u001b[0;32m     12\u001b[0m     \u001b[0mpctge\u001b[0m \u001b[1;33m=\u001b[0m \u001b[1;33m(\u001b[0m\u001b[0mi\u001b[0m \u001b[1;33m-\u001b[0m \u001b[0mGrange\u001b[0m\u001b[1;33m[\u001b[0m\u001b[1;36m0\u001b[0m\u001b[1;33m]\u001b[0m\u001b[1;33m)\u001b[0m \u001b[1;33m/\u001b[0m \u001b[1;33m(\u001b[0m\u001b[0mGrange\u001b[0m\u001b[1;33m[\u001b[0m\u001b[1;36m1\u001b[0m\u001b[1;33m]\u001b[0m \u001b[1;33m-\u001b[0m \u001b[0mGrange\u001b[0m\u001b[1;33m[\u001b[0m\u001b[1;36m0\u001b[0m\u001b[1;33m]\u001b[0m\u001b[1;33m)\u001b[0m\u001b[1;33m\u001b[0m\u001b[1;33m\u001b[0m\u001b[0m\n",
      "\u001b[1;32m<ipython-input-5-4225f29ad0b4>\u001b[0m in \u001b[0;36mRANlist\u001b[1;34m(circle1)\u001b[0m\n\u001b[0;32m     27\u001b[0m     \u001b[1;32mfor\u001b[0m \u001b[0mi\u001b[0m \u001b[1;32min\u001b[0m \u001b[0mrange\u001b[0m\u001b[1;33m(\u001b[0m\u001b[0mrow\u001b[0m\u001b[1;33m)\u001b[0m\u001b[1;33m:\u001b[0m\u001b[1;33m\u001b[0m\u001b[1;33m\u001b[0m\u001b[0m\n\u001b[0;32m     28\u001b[0m         \u001b[1;32mfor\u001b[0m \u001b[0mj\u001b[0m \u001b[1;32min\u001b[0m \u001b[0mrange\u001b[0m\u001b[1;33m(\u001b[0m\u001b[0mcolumn\u001b[0m\u001b[1;33m)\u001b[0m\u001b[1;33m:\u001b[0m\u001b[1;33m\u001b[0m\u001b[1;33m\u001b[0m\u001b[0m\n\u001b[1;32m---> 29\u001b[1;33m             \u001b[1;32mif\u001b[0m \u001b[0mcircle1\u001b[0m\u001b[1;33m[\u001b[0m\u001b[0mi\u001b[0m\u001b[1;33m,\u001b[0m\u001b[0mj\u001b[0m\u001b[1;33m]\u001b[0m \u001b[1;33m==\u001b[0m \u001b[1;36m255\u001b[0m\u001b[1;33m:\u001b[0m\u001b[1;33m\u001b[0m\u001b[1;33m\u001b[0m\u001b[0m\n\u001b[0m\u001b[0;32m     30\u001b[0m                 \u001b[0mwhitep\u001b[0m\u001b[1;33m.\u001b[0m\u001b[0mappend\u001b[0m\u001b[1;33m(\u001b[0m\u001b[1;33m[\u001b[0m\u001b[0mi\u001b[0m\u001b[1;33m,\u001b[0m\u001b[0mj\u001b[0m\u001b[1;33m]\u001b[0m\u001b[1;33m)\u001b[0m\u001b[1;33m\u001b[0m\u001b[1;33m\u001b[0m\u001b[0m\n\u001b[0;32m     31\u001b[0m     \u001b[1;31m#plt.imshow(circle1,cmap = 'gray')\u001b[0m\u001b[1;33m\u001b[0m\u001b[1;33m\u001b[0m\u001b[1;33m\u001b[0m\u001b[0m\n",
      "\u001b[1;31mKeyboardInterrupt\u001b[0m: "
     ]
    }
   ],
   "source": [
    "inlier = -1\n",
    "k = 0\n",
    "for i in range(Grange[0],Grange[1]+1):\n",
    "    imgini = np.zeros((row,column),dtype = np.uint8)\n",
    "    pval = ThreeRandomPoint(RANpoint)\n",
    "    center = Bisector(pval)\n",
    "    r = int(Radius(center))\n",
    "    center = (int(center[1]),int(center[0]))\n",
    "    circle1 = cv2.circle(imgini, (center), r, (255,0,0), 5)\n",
    "    whitep = RANlist(circle1)\n",
    "    k = Inliercal(whitep)\n",
    "    pctge = (i - Grange[0]) / (Grange[1] - Grange[0])\n",
    "    temp = int(round(pBarLength * pctge))\n",
    "    print(\"\\r\"+(temp-1)*'█'+'█'+(pBarLength-temp)*'░'+str(round(pctge*100))+'%'+\" For iteration =\"+str(i),end=' ')\n",
    "    if inlier < k: \n",
    "        inlier = k\n",
    "        Radiusbest = r\n",
    "        Centerbest = center\n",
    "        print(i,inlier)\n",
    "    if inlier >= 3000:\n",
    "        break\n",
    "\n",
    "print(inlier)\n",
    "circle = cv2.imread('circle.jpg')\n",
    "circle = cv2.Canny(circle,50,100)\n",
    "circlebest = cv2.circle(circle, (Centerbest), Radiusbest, (255,0,0), 5)\n",
    "plt.imshow(circlebest,cmap = 'gray')"
   ]
  },
  {
   "cell_type": "code",
   "execution_count": null,
   "id": "52ffeef2-0cb0-4306-b377-9deb67a524af",
   "metadata": {},
   "outputs": [],
   "source": []
  }
 ],
 "metadata": {
  "kernelspec": {
   "display_name": "Python [conda env:conda-tf] *",
   "language": "python",
   "name": "conda-env-conda-tf-py"
  },
  "language_info": {
   "codemirror_mode": {
    "name": "ipython",
    "version": 3
   },
   "file_extension": ".py",
   "mimetype": "text/x-python",
   "name": "python",
   "nbconvert_exporter": "python",
   "pygments_lexer": "ipython3",
   "version": "3.6.13"
  }
 },
 "nbformat": 4,
 "nbformat_minor": 5
}
